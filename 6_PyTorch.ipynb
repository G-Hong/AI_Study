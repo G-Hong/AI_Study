{
  "nbformat": 4,
  "nbformat_minor": 0,
  "metadata": {
    "colab": {
      "provenance": []
    },
    "kernelspec": {
      "name": "python3",
      "display_name": "Python 3"
    },
    "language_info": {
      "name": "python"
    }
  },
  "cells": [
    {
      "cell_type": "markdown",
      "source": [
        "#1. torch\n",
        "\n",
        "메인 네임스페이스\n",
        "\n",
        "텐서 등 다양한 수학 함수가 포함되어져 있으며 Numpy와 유사한 구조 가짐\n",
        "\n",
        "#2. torch.autograd\n",
        "\n",
        "자동 미분을 위한 함수\n",
        "\n",
        "자동 미분의 on/off를 제어하는 콘텍스트 매니저(enable_grad/no_grad)\n",
        "\n",
        "미분 가능 함수를 정의할 때 사용하는 Class 'Function'\n",
        "\n",
        "#3. torch.nn\n",
        "\n",
        "신경망 구축을 위한 다양한 데이터 구조나 레이어 등\n",
        "\n",
        "RNN, LSTM과 같은 레이어, ReLU와 같은 activation function, MSELoss와 같은 손실함수\n",
        "\n",
        "#4. torch.optim\n",
        "\n",
        "확률적 경사 하강법(Stochastic Gradient Descent, SGD)을 중심으로 한 파라미터 최적화 알고리즘\n",
        "\n",
        "#5. torch.utils.data\n",
        "\n",
        "SGD의 반복 연산을 실행할 때 사용하는 미니배치용 유틸리티 함수\n",
        "\n",
        "#6. torch.onnx\n",
        "\n",
        "ONNX(Open Neural Network Exchange)의 포맷. 모델을 expose할 때 사용.\n",
        "\n",
        "ONNX는 서로 다른 딥러닝 프레임워크 간에 모델을 공유할 때 사용하는 포맷"
      ],
      "metadata": {
        "id": "0Oc0fnox4Nbj"
      }
    }
  ]
}