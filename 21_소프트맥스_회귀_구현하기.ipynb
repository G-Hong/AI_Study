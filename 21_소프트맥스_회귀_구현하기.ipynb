{
  "nbformat": 4,
  "nbformat_minor": 0,
  "metadata": {
    "colab": {
      "provenance": []
    },
    "kernelspec": {
      "name": "python3",
      "display_name": "Python 3"
    },
    "language_info": {
      "name": "python"
    }
  },
  "cells": [
    {
      "cell_type": "code",
      "execution_count": null,
      "metadata": {
        "id": "qQZ1pZ9asWiX"
      },
      "outputs": [],
      "source": [
        "import torch\n",
        "import torch.nn as nn\n",
        "import torch.nn.functional as F\n",
        "import torch.optim as optim"
      ]
    },
    {
      "cell_type": "code",
      "source": [
        "torch.manual_seed(1)"
      ],
      "metadata": {
        "colab": {
          "base_uri": "https://localhost:8080/"
        },
        "id": "Rmp3R_Q0sfeH",
        "outputId": "a3dcb8b3-27f1-4b74-b8ed-f58b1845c715"
      },
      "execution_count": null,
      "outputs": [
        {
          "output_type": "execute_result",
          "data": {
            "text/plain": [
              "<torch._C.Generator at 0x7a3b080783d0>"
            ]
          },
          "metadata": {},
          "execution_count": 2
        }
      ]
    },
    {
      "cell_type": "code",
      "source": [
        "x_train = [[1, 2, 1, 1],\n",
        "           [2, 1, 3, 2],\n",
        "           [3, 1, 3, 4],\n",
        "           [4, 1, 5, 5],\n",
        "           [1, 7, 5, 5],\n",
        "           [1, 2, 5, 6],\n",
        "           [1, 6, 6, 6],\n",
        "           [1, 7, 7, 7]]\n",
        "y_train = [2, 2, 2, 1, 1, 1, 0, 0]\n",
        "x_train = torch.FloatTensor(x_train)\n",
        "y_train = torch.LongTensor(y_train)\n"
      ],
      "metadata": {
        "id": "IBnfWUzZsiFH"
      },
      "execution_count": null,
      "outputs": []
    },
    {
      "cell_type": "markdown",
      "source": [
        "#1. 소프트맥스 회귀 구현하기"
      ],
      "metadata": {
        "id": "hqtDav3GsneR"
      }
    },
    {
      "cell_type": "code",
      "source": [
        "print(x_train.shape)\n",
        "print(y_train.shape)"
      ],
      "metadata": {
        "colab": {
          "base_uri": "https://localhost:8080/"
        },
        "id": "DY54xVPts3m6",
        "outputId": "642b271e-c8fa-464c-e18f-e28562231d3d"
      },
      "execution_count": null,
      "outputs": [
        {
          "output_type": "stream",
          "name": "stdout",
          "text": [
            "torch.Size([8, 4])\n",
            "torch.Size([8])\n"
          ]
        }
      ]
    },
    {
      "cell_type": "code",
      "source": [
        "y_one_hot = torch.zeros(8,3)\n",
        "y_one_hot.scatter_(1, y_train.unsqueeze(1), 1)\n",
        "print(y_one_hot.shape)"
      ],
      "metadata": {
        "colab": {
          "base_uri": "https://localhost:8080/"
        },
        "id": "38dmOJu4s_Az",
        "outputId": "ae4d384b-f86d-4f7e-b9fc-507af548faaa"
      },
      "execution_count": null,
      "outputs": [
        {
          "output_type": "stream",
          "name": "stdout",
          "text": [
            "torch.Size([8, 3])\n"
          ]
        }
      ]
    },
    {
      "cell_type": "code",
      "source": [
        "# 모델 초기화\n",
        "W = torch.zeros((4, 3), requires_grad = True)\n",
        "b = torch.zeros((1, 3), requires_grad = True)\n",
        "# optimizer 설정\n",
        "optimizer = optim.SGD([W, b], lr=0.1)"
      ],
      "metadata": {
        "id": "YKaOIBq-tLrM"
      },
      "execution_count": null,
      "outputs": []
    },
    {
      "cell_type": "code",
      "source": [
        "nb_epochs = 1000\n",
        "for epoch in range(nb_epochs + 1):\n",
        "\n",
        "  # 가설\n",
        "  hypothesis = F.softmax(x_train.matmul(W) + b, dim=1)\n",
        "\n",
        "  # 비용 함수\n",
        "  cost = (y_one_hot * -torch.log(hypothesis)).sum(dim=1).mean()\n",
        "\n",
        "  # cost로 H(x) 개선\n",
        "  optimizer.zero_grad()\n",
        "  cost.backward()\n",
        "  optimizer.step()\n",
        "\n",
        "  # 100번마다 로그 출력\n",
        "  if epoch % 100 == 0:\n",
        "    print('Epoch {:4d}/{} cost: {:.6f}'.format(\n",
        "        epoch, nb_epochs, cost.item()\n",
        "    ))"
      ],
      "metadata": {
        "colab": {
          "base_uri": "https://localhost:8080/"
        },
        "id": "77yc115ztjT_",
        "outputId": "f82b4578-8322-4ee1-9348-20f1e7008505"
      },
      "execution_count": null,
      "outputs": [
        {
          "output_type": "stream",
          "name": "stdout",
          "text": [
            "Epoch    0/1000 cost: 1.031274\n",
            "Epoch  100/1000 cost: 0.647316\n",
            "Epoch  200/1000 cost: 0.563587\n",
            "Epoch  300/1000 cost: 0.509171\n",
            "Epoch  400/1000 cost: 0.464820\n",
            "Epoch  500/1000 cost: 0.425382\n",
            "Epoch  600/1000 cost: 0.388530\n",
            "Epoch  700/1000 cost: 0.352769\n",
            "Epoch  800/1000 cost: 0.316938\n",
            "Epoch  900/1000 cost: 0.280443\n",
            "Epoch 1000/1000 cost: 0.247725\n"
          ]
        }
      ]
    },
    {
      "cell_type": "markdown",
      "source": [
        "#2. 소프트맥스 회귀 구현하기(하이-레벨)"
      ],
      "metadata": {
        "id": "BYflIGB5vOsD"
      }
    },
    {
      "cell_type": "code",
      "source": [
        "# 모델 초기화\n",
        "W = torch.zeros((4, 3), requires_grad = True)\n",
        "b = torch.zeros((1, 3), requires_grad = True)\n",
        "# optimizer 설정\n",
        "optimizer = optim.SGD([W, b], lr=0.1)\n",
        "\n",
        "nb_epochs = 1000\n",
        "for epoch in range(nb_epochs+1):\n",
        "  # cost 계산\n",
        "  z = x_train.matmul(W) + b\n",
        "  cost = F.cross_entropy(z, y_train)\n",
        "\n",
        "  # cost로 H(x) 개선\n",
        "  optimizer.zero_grad()\n",
        "  cost.backward()\n",
        "  optimizer.step()\n",
        "\n",
        "  # 100번마다 로그 출력\n",
        "  if epoch % 100 == 0:\n",
        "    print('Epoch {:4d}/{} cost: {:.6f}'.format(\n",
        "        epoch, nb_epochs, cost.item()\n",
        "    ))"
      ],
      "metadata": {
        "colab": {
          "base_uri": "https://localhost:8080/"
        },
        "id": "1Lbo5SZIvUt5",
        "outputId": "52071b83-5e48-4cce-fa25-cfd091272065"
      },
      "execution_count": null,
      "outputs": [
        {
          "output_type": "stream",
          "name": "stdout",
          "text": [
            "Epoch    0/1000 cost: 1.098612\n",
            "Epoch  100/1000 cost: 0.704199\n",
            "Epoch  200/1000 cost: 0.623000\n",
            "Epoch  300/1000 cost: 0.565717\n",
            "Epoch  400/1000 cost: 0.515291\n",
            "Epoch  500/1000 cost: 0.467662\n",
            "Epoch  600/1000 cost: 0.421278\n",
            "Epoch  700/1000 cost: 0.375402\n",
            "Epoch  800/1000 cost: 0.329766\n",
            "Epoch  900/1000 cost: 0.285073\n",
            "Epoch 1000/1000 cost: 0.248155\n"
          ]
        }
      ]
    },
    {
      "cell_type": "markdown",
      "source": [
        "#3. 소프트맥스 회귀 nn.Module로 구현하기"
      ],
      "metadata": {
        "id": "oNv6CJ2Qwti6"
      }
    },
    {
      "cell_type": "code",
      "source": [
        "# 모델을 선언 및 초기화. 4개의 특성을 가지고 3개의 클래스로 분류. input_dim = 4, output_dim = 3\n",
        "model = nn.Linear(4, 3)"
      ],
      "metadata": {
        "id": "HD31Q6cZwx6J"
      },
      "execution_count": null,
      "outputs": []
    },
    {
      "cell_type": "code",
      "source": [
        "# optimizer 설정\n",
        "optimizer = optim.SGD(model.parameters(), lr = 0.1)\n",
        "\n",
        "nb_epochs = 1000\n",
        "for epoch in range(nb_epochs+1):\n",
        "\n",
        "  # H(x) 계산\n",
        "  prediction= model(x_train)\n",
        "\n",
        "  # cost 계산\n",
        "  cost = F.cross_entropy(prediction, y_train)\n",
        "\n",
        "  # cost로 H(x) 개선\n",
        "  optimizer.zero_grad()\n",
        "  cost.backward()\n",
        "  optimizer.step()\n",
        "\n",
        "  # 20번마다 로그 출력\n",
        "  if epoch % 100 ==0:\n",
        "    print('Epoch {:4d}/{} cost: {:.6f}'.format(\n",
        "        epoch, nb_epochs, cost.item()\n",
        "    ))"
      ],
      "metadata": {
        "colab": {
          "base_uri": "https://localhost:8080/"
        },
        "id": "pGpCF3OHw89-",
        "outputId": "7c634396-ab25-4587-dc9e-f85f748f2547"
      },
      "execution_count": null,
      "outputs": [
        {
          "output_type": "stream",
          "name": "stdout",
          "text": [
            "Epoch    0/1000 cost: 1.616785\n",
            "Epoch  100/1000 cost: 0.658891\n",
            "Epoch  200/1000 cost: 0.573443\n",
            "Epoch  300/1000 cost: 0.518151\n",
            "Epoch  400/1000 cost: 0.473265\n",
            "Epoch  500/1000 cost: 0.433516\n",
            "Epoch  600/1000 cost: 0.396563\n",
            "Epoch  700/1000 cost: 0.360914\n",
            "Epoch  800/1000 cost: 0.325392\n",
            "Epoch  900/1000 cost: 0.289178\n",
            "Epoch 1000/1000 cost: 0.254148\n"
          ]
        }
      ]
    },
    {
      "cell_type": "markdown",
      "source": [
        "#4. 소프트맥스 회귀 클래스로 구현하기"
      ],
      "metadata": {
        "id": "kxTsZScIxtzD"
      }
    },
    {
      "cell_type": "code",
      "source": [
        "class SoftmaxClassifierModel(nn.Module):\n",
        "  def __init__(self):\n",
        "    super().__init__()\n",
        "    self.linear = nn.Linear(4, 3)\n",
        "\n",
        "  def forward(self, x):\n",
        "    return self.linear(x)"
      ],
      "metadata": {
        "id": "sBsZLSlNxv6p"
      },
      "execution_count": null,
      "outputs": []
    },
    {
      "cell_type": "code",
      "source": [
        "model = SoftmaxClassifierModel()"
      ],
      "metadata": {
        "id": "6uuQNtufyDBv"
      },
      "execution_count": null,
      "outputs": []
    },
    {
      "cell_type": "code",
      "source": [
        "# optimizer 설정\n",
        "optimizer = optim.SGD(model.parameters(), lr = 0.1)\n",
        "\n",
        "nb_epochs = 1000\n",
        "for epoch in range(nb_epochs + 1):\n",
        "\n",
        "  # H(x) 계산\n",
        "  prediction = model(x_train)\n",
        "\n",
        "  # cost 계산\n",
        "  cost = F.cross_entropy(prediction, y_train)\n",
        "\n",
        "  # cost로 H(x) 개선\n",
        "  optimizer.zero_grad()\n",
        "  cost.backward()\n",
        "  optimizer.step()\n",
        "\n",
        "  # 20번마다 로그 출력\n",
        "  if epoch % 100 ==0:\n",
        "    print('Epoch {:4d}/{} cost: {:.6f}'.format(\n",
        "        epoch, nb_epochs, cost.item()\n",
        "    ))"
      ],
      "metadata": {
        "colab": {
          "base_uri": "https://localhost:8080/"
        },
        "id": "ON-QL2d9yO6Y",
        "outputId": "74e6c727-0002-46db-d6a4-66da4d84f9b7"
      },
      "execution_count": null,
      "outputs": [
        {
          "output_type": "stream",
          "name": "stdout",
          "text": [
            "Epoch    0/1000 cost: 2.637636\n",
            "Epoch  100/1000 cost: 0.647903\n",
            "Epoch  200/1000 cost: 0.564643\n",
            "Epoch  300/1000 cost: 0.511043\n",
            "Epoch  400/1000 cost: 0.467249\n",
            "Epoch  500/1000 cost: 0.428280\n",
            "Epoch  600/1000 cost: 0.391924\n",
            "Epoch  700/1000 cost: 0.356742\n",
            "Epoch  800/1000 cost: 0.321577\n",
            "Epoch  900/1000 cost: 0.285617\n",
            "Epoch 1000/1000 cost: 0.250818\n"
          ]
        }
      ]
    }
  ]
}