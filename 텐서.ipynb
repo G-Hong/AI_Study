{
  "nbformat": 4,
  "nbformat_minor": 0,
  "metadata": {
    "colab": {
      "provenance": []
    },
    "kernelspec": {
      "name": "python3",
      "display_name": "Python 3"
    },
    "language_info": {
      "name": "python"
    }
  },
  "cells": [
    {
      "cell_type": "code",
      "execution_count": null,
      "metadata": {
        "id": "PI17CE6a8SL0"
      },
      "outputs": [],
      "source": []
    },
    {
      "cell_type": "markdown",
      "source": [
        "# 1. 메모"
      ],
      "metadata": {
        "id": "KrnIWQrC8U2d"
      }
    },
    {
      "cell_type": "code",
      "source": [],
      "metadata": {
        "id": "kEdG22dC8W5r"
      },
      "execution_count": null,
      "outputs": []
    }
  ]
}