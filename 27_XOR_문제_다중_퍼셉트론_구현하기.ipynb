{
  "cells": [
    {
      "cell_type": "markdown",
      "metadata": {
        "id": "J-jRxq3YIIiP"
      },
      "source": [
        "#1. 파이토치로 다층 퍼셉트론 구현하기"
      ]
    },
    {
      "cell_type": "code",
      "execution_count": null,
      "metadata": {
        "id": "7sCzbUI9CvlG"
      },
      "outputs": [],
      "source": [
        "import torch\n",
        "import torch.nn as nn"
      ]
    },
    {
      "cell_type": "code",
      "execution_count": null,
      "metadata": {
        "id": "5S79dwkef3b8"
      },
      "outputs": [],
      "source": [
        "device = 'cuda' if torch.cuda.is_available() else 'cpu'\n",
        "\n",
        "#for reproducibility\n",
        "torch.manual_seed(777)\n",
        "if device =='cuda':\n",
        "  torch.cuda.manual_seed_all(777)"
      ]
    },
    {
      "cell_type": "code",
      "execution_count": null,
      "metadata": {
        "colab": {
          "background_save": true
        },
        "id": "XpOIJrYEgKEb"
      },
      "outputs": [],
      "source": [
        "X = torch.FloatTensor([[0,0], [0,1], [1,0], [1,1]]).to(device)\n",
        "Y = torch.FloatTensor()"
      ]
    }
  ],
  "metadata": {
    "accelerator": "GPU",
    "colab": {
      "gpuType": "T4",
      "provenance": []
    },
    "kernelspec": {
      "display_name": "Python 3",
      "name": "python3"
    },
    "language_info": {
      "name": "python"
    }
  },
  "nbformat": 4,
  "nbformat_minor": 0
}