{
  "nbformat": 4,
  "nbformat_minor": 0,
  "metadata": {
    "colab": {
      "provenance": [],
      "gpuType": "T4"
    },
    "kernelspec": {
      "name": "python3",
      "display_name": "Python 3"
    },
    "language_info": {
      "name": "python"
    },
    "accelerator": "GPU"
  },
  "cells": [
    {
      "cell_type": "markdown",
      "source": [
        "#1. 숫자 필기 데이터 소개"
      ],
      "metadata": {
        "id": "X6sP6jMD4JWQ"
      }
    },
    {
      "cell_type": "code",
      "source": [
        "%matplotlib inline\n",
        "import matplotlib.pyplot as plt # 시각화를 위한 맷플롯립\n",
        "from sklearn.datasets import load_digits\n",
        "digits = load_digits() # 1797개의 이미지 데이터 로드"
      ],
      "metadata": {
        "id": "Ztuzf4gr4NfR"
      },
      "execution_count": null,
      "outputs": []
    },
    {
      "cell_type": "code",
      "source": [
        "print(digits.images[0])"
      ],
      "metadata": {
        "colab": {
          "base_uri": "https://localhost:8080/"
        },
        "id": "e-5tBJ7r4d9G",
        "outputId": "403d0831-f88d-4ee5-efe8-548f7557730d"
      },
      "execution_count": null,
      "outputs": [
        {
          "output_type": "stream",
          "name": "stdout",
          "text": [
            "[[ 0.  0.  5. 13.  9.  1.  0.  0.]\n",
            " [ 0.  0. 13. 15. 10. 15.  5.  0.]\n",
            " [ 0.  3. 15.  2.  0. 11.  8.  0.]\n",
            " [ 0.  4. 12.  0.  0.  8.  8.  0.]\n",
            " [ 0.  5.  8.  0.  0.  9.  8.  0.]\n",
            " [ 0.  4. 11.  0.  1. 12.  7.  0.]\n",
            " [ 0.  2. 14.  5. 10. 12.  0.  0.]\n",
            " [ 0.  0.  6. 13. 10.  0.  0.  0.]]\n"
          ]
        }
      ]
    },
    {
      "cell_type": "code",
      "source": [
        "print(digits.target[0])"
      ],
      "metadata": {
        "colab": {
          "base_uri": "https://localhost:8080/"
        },
        "id": "MshOwelI4vrF",
        "outputId": "5e6725ef-5f6d-439a-fb73-98dabc736a00"
      },
      "execution_count": null,
      "outputs": [
        {
          "output_type": "stream",
          "name": "stdout",
          "text": [
            "0\n"
          ]
        }
      ]
    },
    {
      "cell_type": "code",
      "source": [
        "print('전체 샘플의 수 : {}'.format(len(digits.images)))"
      ],
      "metadata": {
        "colab": {
          "base_uri": "https://localhost:8080/"
        },
        "id": "YJG0lQqB43do",
        "outputId": "c0f499b6-ddf3-4604-dfce-4ca89ad10551"
      },
      "execution_count": null,
      "outputs": [
        {
          "output_type": "stream",
          "name": "stdout",
          "text": [
            "전체 샘플의 수 : 1797\n"
          ]
        }
      ]
    },
    {
      "cell_type": "code",
      "source": [
        "images_and_labels = list(zip(digits.images, digits.target))\n",
        "for index, (image, label) in enumerate(images_and_labels[:5]):\n",
        "  plt.subplot(2, 5, index+1)\n",
        "  plt.axis('off')\n",
        "  plt.imshow(image, cmap=plt.cm.gray_r, interpolation='nearest')\n",
        "  plt.title('sample: %i %label')"
      ],
      "metadata": {
        "colab": {
          "base_uri": "https://localhost:8080/",
          "height": 144
        },
        "id": "VRKf96z34-Pd",
        "outputId": "6f8f4a68-8e02-475b-dc57-5587e969f2c3"
      },
      "execution_count": null,
      "outputs": [
        {
          "output_type": "display_data",
          "data": {
            "text/plain": [
              "<Figure size 640x480 with 5 Axes>"
            ],
            "image/png": "[encoded data removed]"
          },
          "metadata": {}
        }
      ]
    },
    {
      "cell_type": "code",
      "source": [
        "for i in range(5):\n",
        "  print(i, '번 인덱스 샘플의 레이블 : ', digits.target[i])"
      ],
      "metadata": {
        "colab": {
          "base_uri": "https://localhost:8080/"
        },
        "id": "bC1vpLtt5eB_",
        "outputId": "f7e74d93-4a82-4077-8908-45d4a3e4227f"
      },
      "execution_count": null,
      "outputs": [
        {
          "output_type": "stream",
          "name": "stdout",
          "text": [
            "0 번 인덱스 샘플의 레이블 :  0\n",
            "1 번 인덱스 샘플의 레이블 :  1\n",
            "2 번 인덱스 샘플의 레이블 :  2\n",
            "3 번 인덱스 샘플의 레이블 :  3\n",
            "4 번 인덱스 샘플의 레이블 :  4\n"
          ]
        }
      ]
    },
    {
      "cell_type": "code",
      "source": [
        "print(digits.data[0])"
      ],
      "metadata": {
        "colab": {
          "base_uri": "https://localhost:8080/"
        },
        "id": "RGgO9MDi5wXK",
        "outputId": "835b344b-ac9e-4205-9534-e14f1def8a67"
      },
      "execution_count": null,
      "outputs": [
        {
          "output_type": "stream",
          "name": "stdout",
          "text": [
            "[ 0.  0.  5. 13.  9.  1.  0.  0.  0.  0. 13. 15. 10. 15.  5.  0.  0.  3.\n",
            " 15.  2.  0. 11.  8.  0.  0.  4. 12.  0.  0.  8.  8.  0.  0.  5.  8.  0.\n",
            "  0.  9.  8.  0.  0.  4. 11.  0.  1. 12.  7.  0.  0.  2. 14.  5. 10. 12.\n",
            "  0.  0.  0.  0.  6. 13. 10.  0.  0.  0.]\n"
          ]
        }
      ]
    },
    {
      "cell_type": "code",
      "source": [
        "X = digits.data # 이미지(특성행렬)\n",
        "Y = digits.target # 각 이미지에 대한 레이블"
      ],
      "metadata": {
        "id": "Dn7Wd9-H50dG"
      },
      "execution_count": null,
      "outputs": []
    },
    {
      "cell_type": "markdown",
      "source": [
        "#2. 다중 퍼셉트론 분류기 만들기"
      ],
      "metadata": {
        "id": "lOYBeXkL59Mw"
      }
    },
    {
      "cell_type": "code",
      "source": [
        "import torch\n",
        "import torch.nn as nn\n",
        "from torch import optim"
      ],
      "metadata": {
        "id": "WHNF9V1t6AAc"
      },
      "execution_count": null,
      "outputs": []
    },
    {
      "cell_type": "code",
      "source": [
        "model = nn.Sequential(\n",
        "    nn.Linear(64, 32), # input_layer = 64, hidden_layer1 = 32\n",
        "    nn.ReLU(),\n",
        "    nn.Linear(32, 16), # hidden_layer2 = 32, hidden_layer3 = 16\n",
        "    nn.ReLU(),\n",
        "    nn.Linear(16, 10) # hidden_layer3 = 16, output_layer = 10\n",
        ")"
      ],
      "metadata": {
        "id": "XkXxIg_96Dtw"
      },
      "execution_count": null,
      "outputs": []
    },
    {
      "cell_type": "code",
      "source": [
        "X = torch.tensor(X, dtype = torch.float32)\n",
        "Y = torch.tensor(Y, dtype = torch.int64)"
      ],
      "metadata": {
        "id": "0wywztCl6jjy"
      },
      "execution_count": null,
      "outputs": []
    },
    {
      "cell_type": "code",
      "source": [
        "loss_fn = nn.CrossEntropyLoss() # 이 비용함수는 소프트맥스 함수를 포함하고 있음"
      ],
      "metadata": {
        "id": "jooJ3aJ58iNs"
      },
      "execution_count": null,
      "outputs": []
    },
    {
      "cell_type": "code",
      "source": [
        "optimizer = optim.Adam(model.parameters())"
      ],
      "metadata": {
        "id": "LIixHhEJ8rtb"
      },
      "execution_count": null,
      "outputs": []
    },
    {
      "cell_type": "code",
      "source": [
        "losses = []"
      ],
      "metadata": {
        "id": "EbdfWIoQ8ww4"
      },
      "execution_count": null,
      "outputs": []
    },
    {
      "cell_type": "code",
      "source": [
        "for epoch in range(100):\n",
        "  optimizer.zero_grad()\n",
        "  y_pred = model(X) # forward 연산\n",
        "  loss = loss_fn(y_pred, Y)\n",
        "  loss.backward()\n",
        "  optimizer.step()\n",
        "\n",
        "  if epoch % 10 ==0:\n",
        "    print('Epoch{:4d}/{} Cost: {:.6f}'.format(\n",
        "        epoch, 100, loss.item()\n",
        "    ))\n",
        "    losses.append(loss.item())"
      ],
      "metadata": {
        "colab": {
          "base_uri": "https://localhost:8080/"
        },
        "id": "lo6mGQwY8z7Y",
        "outputId": "0f182fb6-da1f-4227-9da1-71b215cca789"
      },
      "execution_count": null,
      "outputs": [
        {
          "output_type": "stream",
          "name": "stdout",
          "text": [
            "Epoch   0/100 Cost: 3.244406\n",
            "Epoch  10/100 Cost: 2.228347\n",
            "Epoch  20/100 Cost: 1.966506\n",
            "Epoch  30/100 Cost: 1.671783\n",
            "Epoch  40/100 Cost: 1.339011\n",
            "Epoch  50/100 Cost: 1.009073\n",
            "Epoch  60/100 Cost: 0.745436\n",
            "Epoch  70/100 Cost: 0.559800\n",
            "Epoch  80/100 Cost: 0.430789\n",
            "Epoch  90/100 Cost: 0.340443\n"
          ]
        }
      ]
    },
    {
      "cell_type": "code",
      "source": [
        "plt.plot(losses)"
      ],
      "metadata": {
        "colab": {
          "base_uri": "https://localhost:8080/",
          "height": 447
        },
        "id": "0S3a-6u_9Nzq",
        "outputId": "debe378c-1b4e-405e-db91-6785d9884bad"
      },
      "execution_count": null,
      "outputs": [
        {
          "output_type": "execute_result",
          "data": {
            "text/plain": [
              "[<matplotlib.lines.Line2D at 0x7c7fcf81f130>]"
            ]
          },
          "metadata": {},
          "execution_count": 16
        },
        {
          "output_type": "display_data",
          "data": {
            "text/plain": [
              "<Figure size 640x480 with 1 Axes>"
            ],
            "image/png": "[encoded data removed]"
          },
          "metadata": {}
        }
      ]
    }
  ]
}