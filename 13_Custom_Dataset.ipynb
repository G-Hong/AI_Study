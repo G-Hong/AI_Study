{
  "nbformat": 4,
  "nbformat_minor": 0,
  "metadata": {
    "colab": {
      "provenance": []
    },
    "kernelspec": {
      "name": "python3",
      "display_name": "Python 3"
    },
    "language_info": {
      "name": "python"
    }
  },
  "cells": [
    {
      "cell_type": "markdown",
      "source": [
        "#1. Custom Dataset"
      ],
      "metadata": {
        "id": "4TvuZZJ6nEnh"
      }
    },
    {
      "cell_type": "code",
      "execution_count": null,
      "metadata": {
        "colab": {
          "base_uri": "https://localhost:8080/",
          "height": 106
        },
        "id": "qkC40Lzzm--P",
        "outputId": "871a3ddb-360d-4833-f33b-90da2ab6ddad"
      },
      "outputs": [
        {
          "output_type": "error",
          "ename": "IndentationError",
          "evalue": "expected an indented block after function definition on line 2 (<ipython-input-7-5172d6e9d466>, line 4)",
          "traceback": [
            "\u001b[0;36m  File \u001b[0;32m\"<ipython-input-7-5172d6e9d466>\"\u001b[0;36m, line \u001b[0;32m4\u001b[0m\n\u001b[0;31m    def __len__(self):\u001b[0m\n\u001b[0m    ^\u001b[0m\n\u001b[0;31mIndentationError\u001b[0m\u001b[0;31m:\u001b[0m expected an indented block after function definition on line 2\n"
          ]
        }
      ],
      "source": [
        "class CustomDatset(torch.utils.data.Dataset): # 파이토치에서 데이터셋을 제공하는 추상 클래스 상속\n",
        "  def __init__(self):\n",
        "    # 데이터셋의 전처리 해주는 부분\n",
        "  def __len__(self):\n",
        "    # 데이터셋의 길이 즉, 총 샘플의 수를 적어주는 부분\n",
        "  def __getitem__(self, idx):\n",
        "    # 데이터셋에서 특정 1개의 샘플을 가져오는 함수"
      ]
    },
    {
      "cell_type": "markdown",
      "source": [
        "#2. 커스텀 데이터셋으로 선형회귀 구현"
      ],
      "metadata": {
        "id": "rpDORUboo39V"
      }
    },
    {
      "cell_type": "code",
      "source": [
        "import torch\n",
        "import torch.nn.functional as F\n",
        "from torch.utils.data import Dataset\n",
        "from torch.utils.data import DataLoader"
      ],
      "metadata": {
        "id": "1YPkYPMWobsU"
      },
      "execution_count": null,
      "outputs": []
    },
    {
      "cell_type": "code",
      "source": [
        "# Dataset 상속\n",
        "class CustomDataset(torch.utils.data.Dataset):\n",
        "  def __init__(self):\n",
        "    self.x_data = [[73, 80, 75],\n",
        "                   [93, 88, 93],\n",
        "                   [89, 91, 90],\n",
        "                   [96, 98, 100],\n",
        "                   [73, 66, 70]]\n",
        "    self.y_data = [[152], [185], [180], [196], [142]]\n",
        "\n",
        "  # 총 데이터 개수를 리턴\n",
        "  def __len__(self):\n",
        "    return len(self.x_data)\n",
        "\n",
        "  # 인덱스를 입력받아 그에 맵핑되는 입출력 데이터를 파이토치의 Tensor 형태로 리턴\n",
        "  def __getitem__(self, idx):\n",
        "    x = torch.FloatTensor(self.x_data[idx])\n",
        "    y = torch.FloatTensor(self.y_data[idx])\n",
        "    return x, y"
      ],
      "metadata": {
        "id": "FCvn9x5EpGZp"
      },
      "execution_count": null,
      "outputs": []
    },
    {
      "cell_type": "code",
      "source": [
        "dataset = CustomDataset()\n",
        "dataloader = DataLoader(dataset, batch_size = 2, shuffle = True)"
      ],
      "metadata": {
        "id": "7peTBtFXp_-A"
      },
      "execution_count": null,
      "outputs": []
    },
    {
      "cell_type": "code",
      "source": [
        "model = torch.nn.Linear(3, 1)\n",
        "optimizer = torch.optim.SGD(model.parameters(), lr = 1e-5)"
      ],
      "metadata": {
        "id": "jSBlIT85pmYC"
      },
      "execution_count": null,
      "outputs": []
    },
    {
      "cell_type": "code",
      "source": [
        "nb_epochs = 20\n",
        "for epoch in range(nb_epochs +1):\n",
        "  for batch_idx, samples in enumerate(dataloader):\n",
        "    # print(batch_idx)\n",
        "    # print(samples)\n",
        "    x_train, y_train = samples\n",
        "    # H(x) 계산\n",
        "    prediction = model(x_train)\n",
        "\n",
        "    # cost 계산\n",
        "    cost = F.mse_loss(prediction, y_train)\n",
        "    # cost로 H(x) 계산\n",
        "    optimizer.zero_grad()\n",
        "    cost.backward()\n",
        "    optimizer.step()\n",
        "\n",
        "    print('Epoch {:4d}/{} Batch {}/{} cost: {:.6f}'.format(\n",
        "        epoch, nb_epochs, batch_idx+1, len(dataloader), cost.item()\n",
        "    ))"
      ],
      "metadata": {
        "colab": {
          "base_uri": "https://localhost:8080/"
        },
        "id": "PHyQQoUTqnZg",
        "outputId": "457985f3-96f8-415b-b0e9-c507e9a88334"
      },
      "execution_count": null,
      "outputs": [
        {
          "output_type": "stream",
          "name": "stdout",
          "text": [
            "Epoch    0/20 Batch 1/3 cost: 8958.462891\n",
            "Epoch    0/20 Batch 2/3 cost: 1800.787720\n",
            "Epoch    0/20 Batch 3/3 cost: 367.131470\n",
            "Epoch    1/20 Batch 1/3 cost: 278.321106\n",
            "Epoch    1/20 Batch 2/3 cost: 104.556610\n",
            "Epoch    1/20 Batch 3/3 cost: 15.841824\n",
            "Epoch    2/20 Batch 1/3 cost: 21.272520\n",
            "Epoch    2/20 Batch 2/3 cost: 8.571819\n",
            "Epoch    2/20 Batch 3/3 cost: 0.284957\n",
            "Epoch    3/20 Batch 1/3 cost: 6.789723\n",
            "Epoch    3/20 Batch 2/3 cost: 7.963702\n",
            "Epoch    3/20 Batch 3/3 cost: 2.560117\n",
            "Epoch    4/20 Batch 1/3 cost: 0.379977\n",
            "Epoch    4/20 Batch 2/3 cost: 6.876719\n",
            "Epoch    4/20 Batch 3/3 cost: 15.274767\n",
            "Epoch    5/20 Batch 1/3 cost: 7.093166\n",
            "Epoch    5/20 Batch 2/3 cost: 4.206153\n",
            "Epoch    5/20 Batch 3/3 cost: 11.944525\n",
            "Epoch    6/20 Batch 1/3 cost: 3.464496\n",
            "Epoch    6/20 Batch 2/3 cost: 13.479053\n",
            "Epoch    6/20 Batch 3/3 cost: 4.155287\n",
            "Epoch    7/20 Batch 1/3 cost: 12.543554\n",
            "Epoch    7/20 Batch 2/3 cost: 6.556969\n",
            "Epoch    7/20 Batch 3/3 cost: 1.600610\n",
            "Epoch    8/20 Batch 1/3 cost: 0.997078\n",
            "Epoch    8/20 Batch 2/3 cost: 6.836591\n",
            "Epoch    8/20 Batch 3/3 cost: 14.787203\n",
            "Epoch    9/20 Batch 1/3 cost: 7.234894\n",
            "Epoch    9/20 Batch 2/3 cost: 6.361679\n",
            "Epoch    9/20 Batch 3/3 cost: 7.026674\n",
            "Epoch   10/20 Batch 1/3 cost: 7.233047\n",
            "Epoch   10/20 Batch 2/3 cost: 3.523982\n",
            "Epoch   10/20 Batch 3/3 cost: 7.285617\n",
            "Epoch   11/20 Batch 1/3 cost: 5.470251\n",
            "Epoch   11/20 Batch 2/3 cost: 1.802615\n",
            "Epoch   11/20 Batch 3/3 cost: 16.903145\n",
            "Epoch   12/20 Batch 1/3 cost: 6.652730\n",
            "Epoch   12/20 Batch 2/3 cost: 11.281554\n",
            "Epoch   12/20 Batch 3/3 cost: 5.390438\n",
            "Epoch   13/20 Batch 1/3 cost: 7.249791\n",
            "Epoch   13/20 Batch 2/3 cost: 3.865036\n",
            "Epoch   13/20 Batch 3/3 cost: 5.559309\n",
            "Epoch   14/20 Batch 1/3 cost: 8.325127\n",
            "Epoch   14/20 Batch 2/3 cost: 4.035523\n",
            "Epoch   14/20 Batch 3/3 cost: 4.960503\n",
            "Epoch   15/20 Batch 1/3 cost: 5.109504\n",
            "Epoch   15/20 Batch 2/3 cost: 7.459561\n",
            "Epoch   15/20 Batch 3/3 cost: 5.085322\n",
            "Epoch   16/20 Batch 1/3 cost: 8.485705\n",
            "Epoch   16/20 Batch 2/3 cost: 2.978280\n",
            "Epoch   16/20 Batch 3/3 cost: 10.735682\n",
            "Epoch   17/20 Batch 1/3 cost: 4.990011\n",
            "Epoch   17/20 Batch 2/3 cost: 6.473805\n",
            "Epoch   17/20 Batch 3/3 cost: 5.154859\n",
            "Epoch   18/20 Batch 1/3 cost: 4.498598\n",
            "Epoch   18/20 Batch 2/3 cost: 8.310777\n",
            "Epoch   18/20 Batch 3/3 cost: 3.144593\n",
            "Epoch   19/20 Batch 1/3 cost: 5.865242\n",
            "Epoch   19/20 Batch 2/3 cost: 1.344972\n",
            "Epoch   19/20 Batch 3/3 cost: 17.222450\n",
            "Epoch   20/20 Batch 1/3 cost: 5.653330\n",
            "Epoch   20/20 Batch 2/3 cost: 10.602353\n",
            "Epoch   20/20 Batch 3/3 cost: 3.133888\n"
          ]
        }
      ]
    },
    {
      "cell_type": "code",
      "source": [
        "# 임의의 입력 [73, 80, 75]를 선언\n",
        "new_var =  torch.FloatTensor([[73, 80, 75]])\n",
        "# 입력한 값 [73, 80, 75]에 대해서 예측값 y를 리턴받아서 pred_y에 저장\n",
        "pred_y = model(new_var)\n",
        "print(\"훈련 후 입력이 73, 80, 75일 때의 예측값 :\", pred_y)"
      ],
      "metadata": {
        "id": "OF9bpcCxsa-k",
        "outputId": "57c573f5-ba97-4e9c-d1be-6589d066fef0",
        "colab": {
          "base_uri": "https://localhost:8080/"
        }
      },
      "execution_count": null,
      "outputs": [
        {
          "output_type": "stream",
          "name": "stdout",
          "text": [
            "훈련 후 입력이 73, 80, 75일 때의 예측값 : tensor([[153.4857]], grad_fn=<AddmmBackward0>)\n"
          ]
        }
      ]
    }
  ]
}